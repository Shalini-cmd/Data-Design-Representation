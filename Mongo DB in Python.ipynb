{
 "cells": [
  {
   "cell_type": "markdown",
   "metadata": {},
   "source": [
    "#### Shalini Mishra | Section 2 | Team 9"
   ]
  },
  {
   "cell_type": "markdown",
   "metadata": {},
   "source": [
    "### 5.1 Individual Assignment \n",
    "- Install MongoDB on your system.\n",
    "- Download the sample MongoDB dumps I uploaded to Canvas (including the Pokemon sample DB)\n",
    "- Connect your programming language of choice (Python or Java) to MongoDB.\n",
    "- \"Prove\" that MongoDB is working on your system and that you have connected your programming language to MongoDB by taking a \"real screenshot\" (take a picture with your mobile phone camera) of your computer running the following task:\n",
    "- your programming language is querying and printing to screen all the Pokemon characters that have a candy_count of >=40.\n"
   ]
  },
  {
   "cell_type": "code",
   "execution_count": 2,
   "metadata": {},
   "outputs": [
    {
     "name": "stdout",
     "output_type": "stream",
     "text": [
      "{'name': 'Ivysaur'}\n",
      "{'name': 'Charmeleon'}\n",
      "{'name': 'Wartortle'}\n",
      "{'name': 'Metapod'}\n",
      "{'name': 'Kakuna'}\n",
      "{'name': 'Pidgeotto'}\n",
      "{'name': 'Spearow'}\n",
      "{'name': 'Ekans'}\n",
      "{'name': 'Pikachu'}\n",
      "{'name': 'Sandshrew'}\n",
      "{'name': 'Nidorina'}\n",
      "{'name': 'Nidorino'}\n",
      "{'name': 'Clefairy'}\n",
      "{'name': 'Vulpix'}\n",
      "{'name': 'Jigglypuff'}\n",
      "{'name': 'Zubat'}\n",
      "{'name': 'Gloom'}\n",
      "{'name': 'Paras'}\n",
      "{'name': 'Venonat'}\n",
      "{'name': 'Diglett'}\n",
      "{'name': 'Meowth'}\n",
      "{'name': 'Psyduck'}\n",
      "{'name': 'Mankey'}\n",
      "{'name': 'Growlithe'}\n",
      "{'name': 'Poliwhirl'}\n",
      "{'name': 'Kadabra'}\n",
      "{'name': 'Machoke'}\n",
      "{'name': 'Weepinbell'}\n",
      "{'name': 'Tentacool'}\n",
      "{'name': 'Graveler'}\n",
      "{'name': 'Ponyta'}\n",
      "{'name': 'Slowpoke'}\n",
      "{'name': 'Magnemite'}\n",
      "{'name': 'Doduo'}\n",
      "{'name': 'Seel'}\n",
      "{'name': 'Grimer'}\n",
      "{'name': 'Shellder'}\n",
      "{'name': 'Haunter'}\n",
      "{'name': 'Drowzee'}\n",
      "{'name': 'Krabby'}\n",
      "{'name': 'Voltorb'}\n",
      "{'name': 'Exeggcute'}\n",
      "{'name': 'Cubone'}\n",
      "{'name': 'Koffing'}\n",
      "{'name': 'Rhyhorn'}\n",
      "{'name': 'Horsea'}\n",
      "{'name': 'Goldeen'}\n",
      "{'name': 'Staryu'}\n",
      "{'name': 'Magikarp'}\n",
      "{'name': 'Omanyte'}\n",
      "{'name': 'Kabuto'}\n",
      "{'name': 'Dragonair'}\n"
     ]
    }
   ],
   "source": [
    "import pymongo\n",
    "import pprint\n",
    "from pymongo import MongoClient\n",
    "client = MongoClient('localhost', 27017)\n",
    "\n",
    "#Connecting to the database\n",
    "db = client.samples_pokemon\n",
    "\n",
    "#Getting the collection\n",
    "pokemon = db.samples_pokemon\n",
    "\n",
    "#Getting all the pokemon character names with candy_count>=40\n",
    "for p in pokemon.find({\"candy_count\": {\"$gte\": 40}},{\"name\":1,\"_id\":0}):\n",
    "    pprint.pprint(p)"
   ]
  },
  {
   "cell_type": "code",
   "execution_count": 3,
   "metadata": {},
   "outputs": [],
   "source": [
    "client.close()"
   ]
  }
 ],
 "metadata": {
  "kernelspec": {
   "display_name": "Python 3",
   "language": "python",
   "name": "python3"
  },
  "language_info": {
   "codemirror_mode": {
    "name": "ipython",
    "version": 3
   },
   "file_extension": ".py",
   "mimetype": "text/x-python",
   "name": "python",
   "nbconvert_exporter": "python",
   "pygments_lexer": "ipython3",
   "version": "3.7.3"
  }
 },
 "nbformat": 4,
 "nbformat_minor": 2
}
